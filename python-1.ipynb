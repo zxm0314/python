{
 "cells": [
  {
   "cell_type": "markdown",
   "metadata": {},
   "source": [
    "内置函数"
   ]
  },
  {
   "cell_type": "code",
   "execution_count": null,
   "metadata": {},
   "outputs": [],
   "source": [
    "import functools\n",
    "\n",
    "list = [1, 2, 3, 4, 5]\n",
    "\n",
    "\n",
    "def func(a, b):\n",
    "    return a + b\n",
    "\n",
    "\n",
    "result = functools.reduce(func, list1)\n",
    "\n",
    "print(result)  # 15\n"
   ]
  },
  {
   "cell_type": "code",
   "execution_count": null,
   "metadata": {},
   "outputs": [],
   "source": [
    "list1 = [1, 2, 3, 4, 5]\n",
    "\n",
    "\n",
    "def func(x):\n",
    "    return x ** 2\n",
    "\n",
    "\n",
    "result = map(func, list1)\n",
    "\n",
    "print(result)  # <map obiect at 0x0000013769653198>\n",
    "print(list(result))  # [1, 4, 9, 16, 25]"
   ]
  },
  {
   "cell_type": "code",
   "execution_count": null,
   "metadata": {},
   "outputs": [],
   "source": [
    "list = [1, 2, 3, 4, 5, 6, 7, 8, 9, 10]\n",
    "\n",
    "\n",
    "def func(x):\n",
    "    return x % 2 == 0\n",
    "\n",
    "\n",
    "result = filter(func, list1)\n",
    "\n",
    "print(result)  # <filter object at 0x0000017AF9DC3198>\n",
    "print(list(result))  # [2, 4, 6, 8, 10]\n"
   ]
  },
  {
   "cell_type": "markdown",
   "metadata": {},
   "source": [
    "高阶函数的使用"
   ]
  },
  {
   "cell_type": "code",
   "execution_count": null,
   "metadata": {},
   "outputs": [],
   "source": [
    "def add_num(a, b):\n",
    "    return abs(a) + abs(b)\n",
    "\n",
    "\n",
    "result = add_num(-1, 2)\n",
    "print(result)  # 3\n"
   ]
  },
  {
   "cell_type": "markdown",
   "metadata": {},
   "source": [
    "字典的使用"
   ]
  },
  {
   "cell_type": "code",
   "execution_count": null,
   "metadata": {},
   "outputs": [],
   "source": [
    "def user_info(name, age,gender)\n",
    "    print(f\"您的名字是: {name}, 年龄是: {age}, 性别是: {gender}\")\n",
    "\n",
    "\n",
    "user_info(name=\"小明\", age=20, hender=\"男\")"
   ]
  },
  {
   "cell_type": "code",
   "execution_count": null,
   "metadata": {},
   "outputs": [],
   "source": [
    "my_dict = {\"周杰轮\": 99, \"林俊节\": 88, \"张学油\": 77}\n",
    "keys = my_dict.keys()\n",
    "print(f\"字典的全部keys是: {keys}\")"
   ]
  },
  {
   "cell_type": "code",
   "execution_count": null,
   "metadata": {},
   "outputs": [],
   "source": [
    "me_dict = {\"周杰轮\": 99, \"林俊节\": 88, \"张学油\": 77}\n",
    "my_dict[\"张信哲\"] = 99\n",
    "print(f\"字典经过新增元素后，结果: {my_dict}\")\n",
    "my_dict[\"周杰轮\"] = 33\n",
    "print(f\"字典经过更新后, 结果: {my_dict}\")\n",
    "score = my_dict.pop(\"周杰轮\")\n",
    "print(f\"字典中被移除了一个元素, 结果: {my_dict}, 周杰轮的考试分数是: {score}\")\n",
    "\n",
    "my_dict.clear()\n",
    "print(f\"字典被清空了, 内容是: {my_dict}\")\n",
    "\n",
    "my_dict . clear()\n",
    "print(f\"字典被清空了，内容是: {my_dict}\")\n",
    "my_dict = {\"周杰轮\": 99,\"林俊节\": 88, \"张学油\": 77}\n",
    "keys = my_dict. keys()\n",
    "print(f\"字典的全部keys是: {keys}\")\n",
    "for key in keys:\n",
    "    print(f\"字典的key是:{key}\")\n",
    "    print(f\"字典的value是: {my_dict[key]}\")\n"
   ]
  },
  {
   "cell_type": "markdown",
   "metadata": {},
   "source": [
    "文件备份\n",
    "1.接收用户输入文件名\n",
    "2.规划备份文件名\n",
    "3.备份文件写入数据"
   ]
  },
  {
   "cell_type": "code",
   "execution_count": null,
   "metadata": {},
   "outputs": [],
   "source": [
    "old_name=input('请输入你要备份的文件名；')\n",
    "index=old_name.rfind('.')\n",
    "new_name=oldname[:index]+'[备份]'+old_name[index:]\n",
    "print(new_name)\n",
    "old_f=open(old_name,'rb')\n",
    "new_f=open(new_name,'wb')\n",
    "while True:\n",
    "    con=old_f.read(1024)\n",
    "    if len(con)==0\n",
    "        break\n",
    "    new_f.write(con)\n",
    "old_f.close()\n",
    "new_f.close()"
   ]
  },
  {
   "cell_type": "markdown",
   "metadata": {},
   "source": [
    "面向对象\n",
    "面向对象就是将编程当成是一个事物，对外界来说，事物是直接使用的，不用去管他内部的情况。而编程就是设置事物能够做什么事。\n",
    "类和对象关系：用类去创建一个对象\n",
    "类是对一系列具有相同特征和行为的事物的统称，是一个抽象的概念。\n",
    "对象是类创建出来的真实存在的事物"
   ]
  },
  {
   "cell_type": "markdown",
   "metadata": {},
   "source": [
    "定义类\n",
    "class 类名（）；\n",
    "    代码\n",
    "    ......"
   ]
  },
  {
   "cell_type": "markdown",
   "metadata": {},
   "source": [
    "创建对象\n",
    "对象名=类名（）"
   ]
  },
  {
   "cell_type": "code",
   "execution_count": null,
   "metadata": {},
   "outputs": [],
   "source": [
    "class Washer():\n",
    "    def wash(self):\n",
    "        print('能洗衣服')\n",
    "haier=Washer()\n",
    "print(haier)\n",
    "haier.wash()"
   ]
  },
  {
   "cell_type": "code",
   "execution_count": null,
   "metadata": {},
   "outputs": [],
   "source": [
    "class Washer():\n",
    "    def wash(self):\n",
    "        print('洗衣服')\n",
    "    def print_info(self):\n",
    "        print(f'洗衣机的宽度是{self.width}')\n",
    "        print(f'洗衣机的高度是{self.height}')\n",
    "\n",
    "haier1 =Washaer()\n",
    "\n",
    "haier1.width=400\n",
    "hier1.height=500\n",
    "\n",
    "haier1.print_info()"
   ]
  },
  {
   "cell_type": "markdown",
   "metadata": {},
   "source": [
    "案列"
   ]
  },
  {
   "cell_type": "code",
   "execution_count": null,
   "metadata": {},
   "outputs": [],
   "source": [
    "class SweetPotato():\n",
    "    def__init__(self):\n",
    "        self.cook_time = 0\n",
    "        self.cook_state = '生的'\n",
    "        self.condiments = []\n",
    "\n",
    "    def cook(self, time):\n",
    "        self.cook_time += time\n",
    "        if 0 <= self.cppk_time < 3:\n",
    "            self.cook_state = '生的'\n",
    "        elif 3 <= self.cook_time < 5:\n",
    "            self.cook_state = '半生不熟'\n",
    "        elif 5 <= self.cook_time < 8:\n",
    "            self.cook_state = '熟了'\n",
    "        elif self.cool_time >= 8:\n",
    "            self.cook_state = ='烤糊了'\n",
    "    def __str__(self):\n",
    "        return f'这个地瓜的被烤过的时间是{self.cook_time}, 状态是{self.cook_state}'\n",
    "digua1 = SweetPotato()\n",
    "\n",
    "print(digua1)\n",
    "\n",
    "digua1.cook(2)\n",
    "print(digua1)\n",
    "\n",
    "digua1.cook(2)\n",
    "print(digua1)\n",
    "\n"
   ]
  },
  {
   "cell_type": "code",
   "execution_count": null,
   "metadata": {},
   "outputs": [],
   "source": [
    "class Furniture():\n",
    "    def __init__(self, name, area):\n",
    "        self.name = name\n",
    "        self.area = area\n",
    "class Home():\n",
    "    def __int__(self, address, area):\n",
    "        self.address = address\n",
    "        self.area = area\n",
    "        self.free_area = area\n",
    "        self.furniture = []\n",
    "\n",
    "    def__str__(self)\n",
    "        return f'房子地理位置在{self.address},房屋面积是{self.area}, 剩余面积{self.free_area},家具有{self.furniture}'\n",
    "\n",
    "bed = Furniture('双人床', 6)\n",
    "sofa = Furniture('沙发', 10)\n",
    "\n",
    "jia1 = Home('北京', 1000)\n",
    "print(jai1)\n"
   ]
  },
  {
   "cell_type": "markdown",
   "metadata": {},
   "source": [
    "继承"
   ]
  },
  {
   "cell_type": "code",
   "execution_count": null,
   "metadata": {},
   "outputs": [],
   "source": [
    "class A(object):\n",
    "    def __init__(self):\n",
    "        self.num = 1\n",
    "\n",
    "    def into_print(self):\n",
    "        print(self.num)\n",
    "\n",
    "class B(A):\n",
    "    pass\n",
    "\n",
    "result = B()\n",
    "result.info_print()\n"
   ]
  },
  {
   "cell_type": "markdown",
   "metadata": {},
   "source": [
    "单继承"
   ]
  },
  {
   "cell_type": "code",
   "execution_count": null,
   "metadata": {},
   "outputs": [],
   "source": [
    "class Master(object):\n",
    "    def __init__(self):\n",
    "        self.kongfu = '[古法煎饼果子配方]'\n",
    "    def make_cake(self):\n",
    "        print(f'运用{self.kongfu}制作煎饼果子')\n",
    "\n",
    "class Prentice(Master):\n",
    "    pass\n",
    "\n",
    "daqiu = Prentice()\n",
    "\n",
    "print(daqiu.kongfu)\n",
    "\n",
    "daqiu.make_cake()\n"
   ]
  },
  {
   "cell_type": "code",
   "execution_count": null,
   "metadata": {},
   "outputs": [],
   "source": [
    "class Dog(object):\n",
    "    def work(self):\n",
    "        pass\n",
    "\n",
    "class ArmyDog(Dog):\n",
    "    def work(self):\n",
    "        print('追击敌人...')\n",
    "\n",
    "class DrugDog(Dog):\n",
    "    def work(self):\n",
    "        print('追查毒品...')\n",
    "\n",
    "class Person(object):\n",
    "    def work_with_dog(self, dog):\n",
    "        dog.work()\n",
    "\n",
    "ad = ArmyDog()\n",
    "dd = DrugDog()\n",
    "\n",
    "daqiu = Person()\n",
    "daqiu.work_with_dog(ad)\n",
    "daqiu.work_with_dog(dd)\n"
   ]
  }
 ],
 "metadata": {
  "kernelspec": {
   "display_name": "zxm",
   "language": "python",
   "name": "python3"
  },
  "language_info": {
   "name": "python",
   "version": "3.9.18"
  }
 },
 "nbformat": 4,
 "nbformat_minor": 2
}
