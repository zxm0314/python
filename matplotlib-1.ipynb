{
 "cells": [
  {
   "cell_type": "markdown",
   "metadata": {},
   "source": [
    "用matplotlib绘制图像"
   ]
  },
  {
   "cell_type": "markdown",
   "metadata": {},
   "source": [
    "单坐标系单曲线"
   ]
  },
  {
   "cell_type": "code",
   "execution_count": null,
   "metadata": {},
   "outputs": [],
   "source": [
    "import matplotlib.pyplot as plt\n",
    "import random \n",
    "from pylab import mpl \n",
    "\n",
    "#设置显示中文字体\n",
    "mpl.rcParams[\"font.sans-seri\"]=[\"Simhei\"]\n",
    "#设置正常显示符号\n",
    "mpl.rcParams[\"axes,unicode_minus\"]=False\n",
    "\n",
    "#0.准备数据\n",
    "x=range(60)\n",
    "y_shanghai=[random.uniform(15,18)for i in x ]\n",
    "\n",
    "#1.创建画布\n",
    "plt.figure(figsize=(20,8),dpi=100)\n",
    "\n",
    "#2.绘制图像\n",
    "plt.plot(x,y_shanghai)\n",
    "\n",
    "#2.1添加x,y轴刻度\n",
    "#构造x,y轴刻度标签\n",
    "x_ticks_label=[\"11点{}分\".format(i) for i in x]\n",
    "y_ticks=range(40)\n",
    "\n",
    "#刻度显示\n",
    "plt.xticks(x[::5],x_ticks_label[::5])\n",
    "plt.yticks(y_ticks[::5])\n",
    "\n",
    "#2.2添加网格显示\n",
    "plt.grid(True,linestyle=\"--\",alpha=0.5)\n",
    "\n",
    "#2.3 添加描述信息\n",
    "plt.xlabel(\"时间\")\n",
    "plt.ylabel(\"温度\")\n",
    "plt.title(\"中午11点--12点某城市温度变化图\",fontsize=20)\n",
    "\n",
    "#2.4 图像保存\n",
    "plt.savefig(\"./test.png\")\n",
    "\n",
    "#3.图像显示\n",
    "plt.show()"
   ]
  },
  {
   "cell_type": "markdown",
   "metadata": {},
   "source": [
    "在一个坐标系里绘制多个图像\n",
    "通过多次plot实现"
   ]
  },
  {
   "cell_type": "code",
   "execution_count": null,
   "metadata": {},
   "outputs": [],
   "source": [
    "x=range(60)\n",
    "y_shanghai=[random.uniform(15,18)for i in x]\n",
    "y_beijing=[random.uniform(1,5)for i in x ]\n",
    "\n",
    "fig, axes=plt.subplots(nrows=1,nclos=2,figsize=(20,8),dpi=100)\n",
    "\n",
    "axes[0].plot(x,y_shanghai,label=\"上海\")\n",
    "axes[1].plot(x,y_beijing,color=\"r\",linestyle='--',label=\"北京\")\n",
    "\n",
    "x_tick_label=[\"11点{}分\".format(i) for i in x]\n",
    "y_ticks=range(40)\n",
    "\n",
    "axes[0].set_xticks(x[::5])\n",
    "axes[0].set_yticks(y_ticks[::5])\n",
    "axes[0].set_xtickslabels(x_ticks_label[::5])\n",
    "axes[1].set_xticks(x[::5])\n",
    "axes[1].set_yticks(y_ticks[::5])\n",
    "axes[1].set_xticks(x_ticks_label[::5])\n",
    "\n",
    "axes[0].grid(True,linestyle=\"--\",alpha=0.5)\n",
    "axes[1].grid(True,linestyle=\"--\",alpha=0.5)\n",
    "\n",
    "axes[0].set_xlabel(\"时间\")\n",
    "axes[0].set_ylabel(\"温度\")\n",
    "axes[1].set_title(\"中午11点--12点某城市温度变化图，fontsize=20\")\n",
    "axes[1].set_xlabel(\"时间\")\n",
    "axes[1].set_ylabel(\"温度\")\n",
    "axes[1].set_title (\"中午11点--12点某城市温度变化表\"，fontsize=20)\n",
    "\n",
    "plt.savefig(\"./test.png\")\n",
    "\n",
    "plt.show()\n"
   ]
  },
  {
   "cell_type": "markdown",
   "metadata": {},
   "source": [
    "使用Matplotlib完成其他图形绘制\n",
    "1.折线图：plt.plot()\n",
    "应用场景：观察数据的变化趋势\n",
    "2.散点图:plt.scatter()\n",
    "应用场景：观察两两变量之间的分布规律\n",
    "3.柱状图：plt.bar()\n",
    "应用场景：数据统计,数量对比\n",
    "4.直方图：plt.hist()\n",
    "应用场景：数据统计，观察数据在连续区间上的分布状况\n",
    "5.饼图：plt.pile()\n",
    "应用场景：统计不同类别的数量占比情况"
   ]
  },
  {
   "cell_type": "markdown",
   "metadata": {},
   "source": [
    "散点图"
   ]
  },
  {
   "cell_type": "code",
   "execution_count": null,
   "metadata": {},
   "outputs": [],
   "source": [
    "x = [225.98, 247.07, 253.14, 457.85, 241.58, 301.01, 20.67, 288.64, 163.56, 120.06, 207.83, 342.75, 147.9, 53.06, 224.72, 29.51, 21.61, 483.21, 245.25, 399.25, 343.35]\n",
    "y = [196.63, 203.88, 210.75, 372.74, 202.41, 247.61, 24.9, 239.34, 140.32, 104.15, 176.84, 288.23, 128.79, 49.64, 191.74, 33.1, 30.74, 400.02, 205.35, 330.64, 283.45]\n",
    "plt.figure(figsize=(20, 8), dpi=100)\n",
    "plt.scatter(x, y)\n",
    "plt.show()"
   ]
  },
  {
   "cell_type": "markdown",
   "metadata": {},
   "source": [
    "柱状图"
   ]
  },
  {
   "cell_type": "code",
   "execution_count": null,
   "metadata": {},
   "outputs": [],
   "source": [
    "#0.准备数据\n",
    "movie_name=['雷神'，'正义联盟','东方快车'，'寻梦环游记'，'全球风暴'，'降魔传'，'追捕']\n",
    "#横坐标\n",
    "x=range(len(movie_name))\n",
    "#票房数据\n",
    "y=[73853，57767，22354，15968，14839，8725，8716]\n",
    "#1.创建画布\n",
    "plt.figure(figsize=(20,8),dpi=100)\n",
    "#2.绘制柱状图\n",
    "plt.bar(x,y,width=0.5,color=['b','r','g','y','k','c','m'])\n",
    "#2.1b修改x轴的刻度显示\n",
    "plt.xticks(x,movie_name)\n",
    "#2.2添加网格显示\n",
    "plt.grid(linestyle=\"--\",alpha=0.5)\n",
    "#2.3添加标题\n",
    "plt.title(\"电影票收入对比\")\n",
    "plt.show()\n",
    "   "
   ]
  },
  {
   "cell_type": "markdown",
   "metadata": {},
   "source": [
    "饼图\n",
    "x:数量，自动算百分比\n",
    "labels:每部分名称\n",
    "autopct:每部分名称\n",
    "colors：每部分颜色"
   ]
  },
  {
   "cell_type": "code",
   "execution_count": null,
   "metadata": {},
   "outputs": [],
   "source": [
    "#绘制饼图\n",
    "x=[1,2,3,4,5]\n",
    "label=['class1','class2','class3','class4','class5']\n",
    "explode=[0,0,0.1,0,0]\n",
    "plt.figure(figsize=(20,8),dpi=100)\n",
    "plt.axis(\"equal\")\n",
    "plt.show()"
   ]
  }
 ],
 "metadata": {
  "kernelspec": {
   "display_name": "zxm",
   "language": "python",
   "name": "python3"
  },
  "language_info": {
   "codemirror_mode": {
    "name": "ipython",
    "version": 3
   },
   "file_extension": ".py",
   "mimetype": "text/x-python",
   "name": "python",
   "nbconvert_exporter": "python",
   "pygments_lexer": "ipython3",
   "version": "3.9.18"
  }
 },
 "nbformat": 4,
 "nbformat_minor": 2
}
